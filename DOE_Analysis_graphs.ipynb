{
 "cells": [
  {
   "cell_type": "code",
   "execution_count": 1,
   "id": "5d662343",
   "metadata": {},
   "outputs": [],
   "source": [
    " # Dependencies\n",
    "from matplotlib import pyplot as plt\n",
    "from scipy import stats\n",
    "import numpy as np\n",
    "import pandas as pd"
   ]
  },
  {
   "cell_type": "code",
   "execution_count": 2,
   "id": "bcec31ea",
   "metadata": {},
   "outputs": [],
   "source": [
    "#import all DataFrames\n",
    "attendance_cost_df = pd.read_csv('CSVs/attendance_cost.csv', index_col=0)\n",
    "retention_rate_df = pd.read_csv('CSVs/retention_rate.csv', index_col=0)\n",
    "student_demo_df = pd.read_csv('CSVs/student_demo.csv', index_col=0)\n",
    "student_gen_df = pd.read_csv('CSVs/student_gen.csv', index_col=0)\n",
    "student_income_df = pd.read_csv('CSVs/student_income.csv', index_col=0)\n",
    "student_sex_df = pd.read_csv('CSVs/student_sex.csv', index_col=0)\n",
    "school_roots_df = pd.read_csv('CSVs/school_roots.csv', index_col=0)"
   ]
  },
  {
   "cell_type": "code",
   "execution_count": null,
   "id": "e1cea76b",
   "metadata": {},
   "outputs": [],
   "source": []
  }
 ],
 "metadata": {
  "kernelspec": {
   "display_name": "Python 3 (ipykernel)",
   "language": "python",
   "name": "python3"
  },
  "language_info": {
   "codemirror_mode": {
    "name": "ipython",
    "version": 3
   },
   "file_extension": ".py",
   "mimetype": "text/x-python",
   "name": "python",
   "nbconvert_exporter": "python",
   "pygments_lexer": "ipython3",
   "version": "3.9.13"
  }
 },
 "nbformat": 4,
 "nbformat_minor": 5
}
